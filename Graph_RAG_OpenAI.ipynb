{
 "cells": [
  {
   "cell_type": "code",
   "execution_count": 37,
   "metadata": {},
   "outputs": [],
   "source": [
    "from os import getenv\n",
    "from dotenv import load_dotenv\n",
    "from langchain_community.graphs import Neo4jGraph\n",
    "from langchain.chains import GraphCypherQAChain\n",
    "from langchain_openai import ChatOpenAI"
   ]
  },
  {
   "cell_type": "code",
   "execution_count": 38,
   "metadata": {},
   "outputs": [
    {
     "data": {
      "text/plain": [
       "True"
      ]
     },
     "execution_count": 38,
     "metadata": {},
     "output_type": "execute_result"
    }
   ],
   "source": [
    "load_dotenv()"
   ]
  },
  {
   "cell_type": "code",
   "execution_count": 5,
   "metadata": {},
   "outputs": [],
   "source": [
    "neo4j_url= getenv(\"NEO4J_URL\")\n",
    "neo4j_user = getenv(\"NEO4J_USER\")\n",
    "neo4j_password = getenv(\"NEO4J_PW\")\n",
    "neo4j_database = getenv(\"NEO4J_DB\")"
   ]
  },
  {
   "cell_type": "code",
   "execution_count": 6,
   "metadata": {},
   "outputs": [],
   "source": [
    "graph = Neo4jGraph(neo4j_url, neo4j_user, neo4j_password, neo4j_database)"
   ]
  },
  {
   "cell_type": "code",
   "execution_count": 7,
   "metadata": {},
   "outputs": [
    {
     "name": "stdout",
     "output_type": "stream",
     "text": [
      "Node properties:\n",
      "Movie {certificate: STRING, rating: FLOAT, run_time: INTEGER, tagline: STRING, title: STRING, year: INTEGER}\n",
      "Person {name: STRING}\n",
      "Actor {name: STRING}\n",
      "Director {name: STRING}\n",
      "Writer {name: STRING}\n",
      "Genre {name: STRING}\n",
      "Province {year: INTEGER, name: STRING, average_population: FLOAT, population_density: INTEGER, population_growth_rate: FLOAT}\n",
      "region {name: STRING}\n",
      "Relationship properties:\n",
      "\n",
      "The relationships:\n",
      "(:Movie)-[:BELONGS_TO]->(:Genre)\n",
      "(:Person)-[:ACTED_IN]->(:Movie)\n",
      "(:Person)-[:DIRECTED]->(:Movie)\n",
      "(:Person)-[:WROTE]->(:Movie)\n",
      "(:Actor)-[:ACTED_IN]->(:Movie)\n",
      "(:Actor)-[:WROTE]->(:Movie)\n",
      "(:Actor)-[:DIRECTED]->(:Movie)\n",
      "(:Director)-[:DIRECTED]->(:Movie)\n",
      "(:Director)-[:WROTE]->(:Movie)\n",
      "(:Director)-[:ACTED_IN]->(:Movie)\n",
      "(:Writer)-[:DIRECTED]->(:Movie)\n",
      "(:Writer)-[:WROTE]->(:Movie)\n",
      "(:Writer)-[:ACTED_IN]->(:Movie)\n"
     ]
    }
   ],
   "source": [
    "print(graph.schema)"
   ]
  },
  {
   "cell_type": "code",
   "execution_count": 39,
   "metadata": {},
   "outputs": [],
   "source": [
    "openAI_api = getenv(\"OPEN_AI_2\")"
   ]
  },
  {
   "cell_type": "code",
   "execution_count": 40,
   "metadata": {},
   "outputs": [],
   "source": [
    "llm = ChatOpenAI(model=\"gpt-4o-mini\", api_key = openAI_api, temperature = 0)\n",
    "\n",
    "chain = GraphCypherQAChain.from_llm(graph=graph, llm=llm, verbose=True,allow_dangerous_requests=True)\n"
   ]
  },
  {
   "cell_type": "code",
   "execution_count": 42,
   "metadata": {},
   "outputs": [
    {
     "name": "stdout",
     "output_type": "stream",
     "text": [
      "\n",
      "\n",
      "\u001b[1m> Entering new GraphCypherQAChain chain...\u001b[0m\n",
      "Generated Cypher:\n",
      "\u001b[32;1m\u001b[1;3mcypher\n",
      "MATCH (p:Province {name: 'Ha Noi'}) RETURN p\n",
      "\u001b[0m\n",
      "Full Context:\n",
      "\u001b[32;1m\u001b[1;3m[]\u001b[0m\n",
      "\n",
      "\u001b[1m> Finished chain.\u001b[0m\n"
     ]
    },
    {
     "data": {
      "text/plain": [
       "{'query': 'all information about Ha Noi', 'result': \"I don't know the answer.\"}"
      ]
     },
     "execution_count": 42,
     "metadata": {},
     "output_type": "execute_result"
    }
   ],
   "source": [
    "chain.invoke({\"query\": \"all information about Ha Noi\"})"
   ]
  },
  {
   "cell_type": "code",
   "execution_count": 43,
   "metadata": {},
   "outputs": [
    {
     "name": "stdout",
     "output_type": "stream",
     "text": [
      "\n",
      "\n",
      "Tất cả thông tin về hà nội\n",
      "\n",
      "\n",
      "\u001b[1m> Entering new GraphCypherQAChain chain...\u001b[0m\n",
      "Generated Cypher:\n",
      "\u001b[32;1m\u001b[1;3mcypher\n",
      "MATCH (p:Province {name: 'Hà Nội'}) RETURN p\n",
      "\u001b[0m\n",
      "Full Context:\n",
      "\u001b[32;1m\u001b[1;3m[{'p': {'average_population': 8093.9, 'year': 2019, 'population_density': 2410, 'name': 'Hà Nội', 'population_growth_rate': 2.27}}, {'p': {'average_population': 8246.6, 'year': 2020, 'population_density': 2455, 'name': 'Hà Nội', 'population_growth_rate': 1.89}}]\u001b[0m\n",
      "\n",
      "\u001b[1m> Finished chain.\u001b[0m\n",
      "Hà Nội có dân số trung bình là 8,093.9 vào năm 2019 với mật độ dân số là 2,410 và tỷ lệ tăng trưởng dân số là 2.27%. Vào năm 2020, dân số trung bình của Hà Nội là 8,246.6, mật độ dân số là 2,455 và tỷ lệ tăng trưởng dân số giảm xuống còn 1.89%.\n"
     ]
    }
   ],
   "source": [
    "questions = [\"Tất cả thông tin về hà nội\"]\n",
    "\n",
    "for question in questions:\n",
    "    print(\"\\n\\n\" + question)\n",
    "    print(chain.invoke(question)[\"result\"])"
   ]
  },
  {
   "cell_type": "code",
   "execution_count": null,
   "metadata": {},
   "outputs": [],
   "source": []
  },
  {
   "cell_type": "code",
   "execution_count": null,
   "metadata": {},
   "outputs": [],
   "source": []
  }
 ],
 "metadata": {
  "kernelspec": {
   "display_name": ".venv",
   "language": "python",
   "name": "python3"
  },
  "language_info": {
   "codemirror_mode": {
    "name": "ipython",
    "version": 3
   },
   "file_extension": ".py",
   "mimetype": "text/x-python",
   "name": "python",
   "nbconvert_exporter": "python",
   "pygments_lexer": "ipython3",
   "version": "3.12.4"
  }
 },
 "nbformat": 4,
 "nbformat_minor": 2
}
