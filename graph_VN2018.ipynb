{
 "cells": [
  {
   "cell_type": "code",
   "execution_count": 14,
   "metadata": {},
   "outputs": [],
   "source": [
    "from os import getenv\n",
    "import polars as pl\n",
    "from dotenv import load_dotenv\n",
    "from neo4j import GraphDatabase"
   ]
  },
  {
   "cell_type": "code",
   "execution_count": 65,
   "metadata": {},
   "outputs": [
    {
     "data": {
      "text/plain": [
       "True"
      ]
     },
     "execution_count": 65,
     "metadata": {},
     "output_type": "execute_result"
    }
   ],
   "source": [
    "load_dotenv()"
   ]
  },
  {
   "cell_type": "code",
   "execution_count": 66,
   "metadata": {},
   "outputs": [],
   "source": [
    "df = pl.read_csv(\"data/VN2018.csv\")"
   ]
  },
  {
   "cell_type": "code",
   "execution_count": 67,
   "metadata": {},
   "outputs": [
    {
     "data": {
      "text/plain": [
       "['Mã',\n",
       " 'Các tỉnh thành',\n",
       " 'Mật độ dân số',\n",
       " 'Dân số trung bình',\n",
       " 'Tỷ lệ gia tăng dân số',\n",
       " 'Số trường hợp tử vong',\n",
       " 'Tỷ lệ tử vong (%)',\n",
       " 'Vùng',\n",
       " 'Sản lượng nuôi trồng thủy sản',\n",
       " 'Phần trăm sản lượng nuôi trồng thủy sản(%)',\n",
       " 'Sản lượng nông nghiệp',\n",
       " 'Phần trăm sản lượng nông nghiệp(%)',\n",
       " 'Sản lượng lâm nghiệp',\n",
       " 'Phần trăm sản lượng lâm nghiệp(%)',\n",
       " 'Sản lượng phát triển tốt theo vùng ',\n",
       " 'Nhiệt độ trung bình',\n",
       " 'Nhiệt độ cao nhất',\n",
       " 'Nhiệt độ thấp nhất',\n",
       " 'Lượng mưa(mm)',\n",
       " 'Tháng mùa mưa',\n",
       " 'Tháng mùa khô',\n",
       " 'Nhiệt độ trung bình theo vùng',\n",
       " 'Lượng mưa trung bình theo vùng(mm)',\n",
       " 'Tháng mưa theo vùng',\n",
       " 'Tháng khô theo vùng',\n",
       " 'Năm']"
      ]
     },
     "execution_count": 67,
     "metadata": {},
     "output_type": "execute_result"
    }
   ],
   "source": [
    "df.columns"
   ]
  },
  {
   "cell_type": "code",
   "execution_count": 68,
   "metadata": {},
   "outputs": [
    {
     "data": {
      "text/html": [
       "<div><style>\n",
       ".dataframe > thead > tr,\n",
       ".dataframe > tbody > tr {\n",
       "  text-align: right;\n",
       "  white-space: pre-wrap;\n",
       "}\n",
       "</style>\n",
       "<small>shape: (9, 27)</small><table border=\"1\" class=\"dataframe\"><thead><tr><th>statistic</th><th>Mã</th><th>Các tỉnh thành</th><th>Mật độ dân số</th><th>Dân số trung bình</th><th>Tỷ lệ gia tăng dân số</th><th>Số trường hợp tử vong</th><th>Tỷ lệ tử vong (%)</th><th>Vùng</th><th>Sản lượng nuôi trồng thủy sản</th><th>Phần trăm sản lượng nuôi trồng thủy sản(%)</th><th>Sản lượng nông nghiệp</th><th>Phần trăm sản lượng nông nghiệp(%)</th><th>Sản lượng lâm nghiệp</th><th>Phần trăm sản lượng lâm nghiệp(%)</th><th>Sản lượng phát triển tốt theo vùng </th><th>Nhiệt độ trung bình</th><th>Nhiệt độ cao nhất</th><th>Nhiệt độ thấp nhất</th><th>Lượng mưa(mm)</th><th>Tháng mùa mưa</th><th>Tháng mùa khô</th><th>Nhiệt độ trung bình theo vùng</th><th>Lượng mưa trung bình theo vùng(mm)</th><th>Tháng mưa theo vùng</th><th>Tháng khô theo vùng</th><th>Năm</th></tr><tr><td>str</td><td>f64</td><td>str</td><td>f64</td><td>f64</td><td>f64</td><td>f64</td><td>f64</td><td>str</td><td>f64</td><td>f64</td><td>f64</td><td>f64</td><td>f64</td><td>f64</td><td>str</td><td>f64</td><td>f64</td><td>f64</td><td>f64</td><td>str</td><td>str</td><td>f64</td><td>f64</td><td>str</td><td>str</td><td>f64</td></tr></thead><tbody><tr><td>&quot;count&quot;</td><td>63.0</td><td>&quot;63&quot;</td><td>63.0</td><td>63.0</td><td>63.0</td><td>63.0</td><td>63.0</td><td>&quot;63&quot;</td><td>63.0</td><td>63.0</td><td>63.0</td><td>63.0</td><td>63.0</td><td>63.0</td><td>&quot;63&quot;</td><td>63.0</td><td>63.0</td><td>63.0</td><td>63.0</td><td>&quot;63&quot;</td><td>&quot;63&quot;</td><td>63.0</td><td>63.0</td><td>&quot;63&quot;</td><td>&quot;63&quot;</td><td>63.0</td></tr><tr><td>&quot;null_count&quot;</td><td>0.0</td><td>&quot;0&quot;</td><td>0.0</td><td>0.0</td><td>0.0</td><td>0.0</td><td>0.0</td><td>&quot;0&quot;</td><td>0.0</td><td>0.0</td><td>0.0</td><td>0.0</td><td>0.0</td><td>0.0</td><td>&quot;0&quot;</td><td>0.0</td><td>0.0</td><td>0.0</td><td>0.0</td><td>&quot;0&quot;</td><td>&quot;0&quot;</td><td>0.0</td><td>0.0</td><td>&quot;0&quot;</td><td>&quot;0&quot;</td><td>0.0</td></tr><tr><td>&quot;mean&quot;</td><td>49.333333</td><td>null</td><td>500.190476</td><td>1576.155556</td><td>0.954762</td><td>9037.111111</td><td>0.015868</td><td>null</td><td>66060.571429</td><td>0.015868</td><td>136687.301587</td><td>0.015878</td><td>241923.809524</td><td>0.015876</td><td>null</td><td>24.548254</td><td>36.42381</td><td>14.188889</td><td>1811.626984</td><td>null</td><td>null</td><td>24.149206</td><td>1710.31746</td><td>null</td><td>null</td><td>2018.0</td></tr><tr><td>&quot;std&quot;</td><td>28.628882</td><td>null</td><td>634.874025</td><td>1457.499834</td><td>0.974866</td><td>6548.877693</td><td>0.011507</td><td>null</td><td>105391.49617</td><td>0.025324</td><td>141796.034218</td><td>0.016459</td><td>329184.702891</td><td>0.0216</td><td>null</td><td>1.932372</td><td>4.035876</td><td>6.756218</td><td>394.361001</td><td>null</td><td>null</td><td>1.263491</td><td>161.434779</td><td>null</td><td>null</td><td>0.0</td></tr><tr><td>&quot;min&quot;</td><td>1.0</td><td>&quot;An Giang&quot;</td><td>50.0</td><td>327.9</td><td>-1.18</td><td>1769.0</td><td>0.0031</td><td>&quot;Bắc Trung bộ và duyên hải miền…</td><td>408.0</td><td>0.0001</td><td>5500.0</td><td>0.0006</td><td>2000.0</td><td>0.0001</td><td>&quot;Lâm nghiệp&quot;</td><td>20.0</td><td>23.7</td><td>-0.9</td><td>900.0</td><td>&quot;10&quot;</td><td>&quot;1&quot;</td><td>22.7</td><td>1500.0</td><td>&quot;5,6,7,8,9,10,11&quot;</td><td>&quot;1&quot;</td><td>2018.0</td></tr><tr><td>&quot;25%&quot;</td><td>26.0</td><td>null</td><td>136.0</td><td>887.6</td><td>0.43</td><td>5768.0</td><td>0.0101</td><td>null</td><td>7124.0</td><td>0.0017</td><td>62300.0</td><td>0.0072</td><td>13700.0</td><td>0.0009</td><td>null</td><td>23.3</td><td>34.0</td><td>11.0</td><td>1550.0</td><td>null</td><td>null</td><td>23.0</td><td>1600.0</td><td>null</td><td>null</td><td>2018.0</td></tr><tr><td>&quot;50%&quot;</td><td>48.0</td><td>null</td><td>280.0</td><td>1242.7</td><td>0.79</td><td>7421.0</td><td>0.013</td><td>null</td><td>16854.0</td><td>0.004</td><td>81100.0</td><td>0.0094</td><td>97600.0</td><td>0.0064</td><td>null</td><td>24.0</td><td>36.0</td><td>14.0</td><td>1800.0</td><td>null</td><td>null</td><td>24.7</td><td>1700.0</td><td>null</td><td>null</td><td>2018.0</td></tr><tr><td>&quot;75%&quot;</td><td>75.0</td><td>null</td><td>689.0</td><td>1693.3</td><td>1.46</td><td>10857.0</td><td>0.0191</td><td>null</td><td>63689.0</td><td>0.0153</td><td>164500.0</td><td>0.0191</td><td>353300.0</td><td>0.0232</td><td>null</td><td>26.5</td><td>39.5</td><td>20.0</td><td>2100.0</td><td>null</td><td>null</td><td>25.1</td><td>1800.0</td><td>null</td><td>null</td><td>2018.0</td></tr><tr><td>&quot;max&quot;</td><td>96.0</td><td>&quot;Đồng Tháp&quot;</td><td>4171.0</td><td>8598.7</td><td>5.3</td><td>37014.0</td><td>0.065</td><td>&quot;Đồng bằng sông Hồng&quot;</td><td>522707.0</td><td>0.1256</td><td>728500.0</td><td>0.0846</td><td>1.3132e6</td><td>0.0862</td><td>&quot;Thủy sản&quot;</td><td>28.0</td><td>44.1</td><td>25.2</td><td>2926.0</td><td>&quot;9,11&quot;</td><td>&quot;2,3,4,5,6,7&quot;</td><td>26.7</td><td>2050.0</td><td>&quot;9,10,11&quot;</td><td>&quot;12,1,2,3,4&quot;</td><td>2018.0</td></tr></tbody></table></div>"
      ],
      "text/plain": [
       "shape: (9, 27)\n",
       "┌────────────┬───────────┬────────────┬───────────┬───┬───────────┬───────────┬───────────┬────────┐\n",
       "│ statistic  ┆ Mã        ┆ Các tỉnh   ┆ Mật độ    ┆ … ┆ Lượng mưa ┆ Tháng mưa ┆ Tháng khô ┆ Năm    │\n",
       "│ ---        ┆ ---       ┆ thành      ┆ dân số    ┆   ┆ trung     ┆ theo vùng ┆ theo vùng ┆ ---    │\n",
       "│ str        ┆ f64       ┆ ---        ┆ ---       ┆   ┆ bình theo ┆ ---       ┆ ---       ┆ f64    │\n",
       "│            ┆           ┆ str        ┆ f64       ┆   ┆ vùng…     ┆ str       ┆ str       ┆        │\n",
       "│            ┆           ┆            ┆           ┆   ┆ ---       ┆           ┆           ┆        │\n",
       "│            ┆           ┆            ┆           ┆   ┆ f64       ┆           ┆           ┆        │\n",
       "╞════════════╪═══════════╪════════════╪═══════════╪═══╪═══════════╪═══════════╪═══════════╪════════╡\n",
       "│ count      ┆ 63.0      ┆ 63         ┆ 63.0      ┆ … ┆ 63.0      ┆ 63        ┆ 63        ┆ 63.0   │\n",
       "│ null_count ┆ 0.0       ┆ 0          ┆ 0.0       ┆ … ┆ 0.0       ┆ 0         ┆ 0         ┆ 0.0    │\n",
       "│ mean       ┆ 49.333333 ┆ null       ┆ 500.19047 ┆ … ┆ 1710.3174 ┆ null      ┆ null      ┆ 2018.0 │\n",
       "│            ┆           ┆            ┆ 6         ┆   ┆ 6         ┆           ┆           ┆        │\n",
       "│ std        ┆ 28.628882 ┆ null       ┆ 634.87402 ┆ … ┆ 161.43477 ┆ null      ┆ null      ┆ 0.0    │\n",
       "│            ┆           ┆            ┆ 5         ┆   ┆ 9         ┆           ┆           ┆        │\n",
       "│ min        ┆ 1.0       ┆ An Giang   ┆ 50.0      ┆ … ┆ 1500.0    ┆ 5,6,7,8,9 ┆ 1         ┆ 2018.0 │\n",
       "│            ┆           ┆            ┆           ┆   ┆           ┆ ,10,11    ┆           ┆        │\n",
       "│ 25%        ┆ 26.0      ┆ null       ┆ 136.0     ┆ … ┆ 1600.0    ┆ null      ┆ null      ┆ 2018.0 │\n",
       "│ 50%        ┆ 48.0      ┆ null       ┆ 280.0     ┆ … ┆ 1700.0    ┆ null      ┆ null      ┆ 2018.0 │\n",
       "│ 75%        ┆ 75.0      ┆ null       ┆ 689.0     ┆ … ┆ 1800.0    ┆ null      ┆ null      ┆ 2018.0 │\n",
       "│ max        ┆ 96.0      ┆ Đồng Tháp  ┆ 4171.0    ┆ … ┆ 2050.0    ┆ 9,10,11   ┆ 12,1,2,3, ┆ 2018.0 │\n",
       "│            ┆           ┆            ┆           ┆   ┆           ┆           ┆ 4         ┆        │\n",
       "└────────────┴───────────┴────────────┴───────────┴───┴───────────┴───────────┴───────────┴────────┘"
      ]
     },
     "execution_count": 68,
     "metadata": {},
     "output_type": "execute_result"
    }
   ],
   "source": [
    "df.describe()"
   ]
  },
  {
   "cell_type": "code",
   "execution_count": 69,
   "metadata": {},
   "outputs": [
    {
     "data": {
      "text/html": [
       "<div><style>\n",
       ".dataframe > thead > tr,\n",
       ".dataframe > tbody > tr {\n",
       "  text-align: right;\n",
       "  white-space: pre-wrap;\n",
       "}\n",
       "</style>\n",
       "<small>shape: (5, 26)</small><table border=\"1\" class=\"dataframe\"><thead><tr><th>Mã</th><th>Các tỉnh thành</th><th>Mật độ dân số</th><th>Dân số trung bình</th><th>Tỷ lệ gia tăng dân số</th><th>Số trường hợp tử vong</th><th>Tỷ lệ tử vong (%)</th><th>Vùng</th><th>Sản lượng nuôi trồng thủy sản</th><th>Phần trăm sản lượng nuôi trồng thủy sản(%)</th><th>Sản lượng nông nghiệp</th><th>Phần trăm sản lượng nông nghiệp(%)</th><th>Sản lượng lâm nghiệp</th><th>Phần trăm sản lượng lâm nghiệp(%)</th><th>Sản lượng phát triển tốt theo vùng </th><th>Nhiệt độ trung bình</th><th>Nhiệt độ cao nhất</th><th>Nhiệt độ thấp nhất</th><th>Lượng mưa(mm)</th><th>Tháng mùa mưa</th><th>Tháng mùa khô</th><th>Nhiệt độ trung bình theo vùng</th><th>Lượng mưa trung bình theo vùng(mm)</th><th>Tháng mưa theo vùng</th><th>Tháng khô theo vùng</th><th>Năm</th></tr><tr><td>i64</td><td>str</td><td>i64</td><td>f64</td><td>f64</td><td>i64</td><td>f64</td><td>str</td><td>i64</td><td>f64</td><td>i64</td><td>f64</td><td>i64</td><td>f64</td><td>str</td><td>f64</td><td>f64</td><td>f64</td><td>f64</td><td>str</td><td>str</td><td>f64</td><td>i64</td><td>str</td><td>str</td><td>i64</td></tr></thead><tbody><tr><td>1</td><td>&quot;Hà Nội&quot;</td><td>2239</td><td>7520.7</td><td>2.23</td><td>37014</td><td>0.065</td><td>&quot;Đồng bằng sông Hồng&quot;</td><td>102886</td><td>0.0247</td><td>196400</td><td>0.0228</td><td>31000</td><td>0.002</td><td>&quot;Nông nghiệp&quot;</td><td>23.5</td><td>38.9</td><td>10.0</td><td>1676.2</td><td>&quot;8&quot;</td><td>&quot;1&quot;</td><td>23.3</td><td>1600</td><td>&quot;8&quot;</td><td>&quot;12,1&quot;</td><td>2018</td></tr><tr><td>26</td><td>&quot;Vĩnh Phúc&quot;</td><td>884</td><td>1092.4</td><td>1.36</td><td>5525</td><td>0.0097</td><td>&quot;Đồng bằng sông Hồng&quot;</td><td>19005</td><td>0.0046</td><td>70900</td><td>0.0082</td><td>39500</td><td>0.0026</td><td>&quot;Nông nghiệp&quot;</td><td>24.25</td><td>38.5</td><td>2.0</td><td>1500.0</td><td>&quot;8&quot;</td><td>&quot;12&quot;</td><td>23.3</td><td>1600</td><td>&quot;8&quot;</td><td>&quot;12,1&quot;</td><td>2018</td></tr><tr><td>27</td><td>&quot;Bắc Ninh&quot;</td><td>1516</td><td>1247.5</td><td>3.05</td><td>6346</td><td>0.0111</td><td>&quot;Đồng bằng sông Hồng&quot;</td><td>35988</td><td>0.0086</td><td>68500</td><td>0.008</td><td>4200</td><td>0.0003</td><td>&quot;Nông nghiệp&quot;</td><td>23.7</td><td>38.2</td><td>7.0</td><td>1575.0</td><td>&quot;8&quot;</td><td>&quot;12&quot;</td><td>23.3</td><td>1600</td><td>&quot;8&quot;</td><td>&quot;12,1&quot;</td><td>2018</td></tr><tr><td>22</td><td>&quot;Quảng Ninh&quot;</td><td>205</td><td>1266.5</td><td>1.46</td><td>7145</td><td>0.0125</td><td>&quot;Đồng bằng sông Hồng&quot;</td><td>56963</td><td>0.0137</td><td>46300</td><td>0.0054</td><td>376800</td><td>0.0247</td><td>&quot;Nông nghiệp&quot;</td><td>22.2</td><td>36.0</td><td>7.0</td><td>1900.0</td><td>&quot;6,7,8&quot;</td><td>&quot;11, 12, 1, 2&quot;</td><td>23.3</td><td>1600</td><td>&quot;8&quot;</td><td>&quot;12,1&quot;</td><td>2018</td></tr><tr><td>30</td><td>&quot;Hải Dương&quot;</td><td>1083</td><td>1807.5</td><td>1.46</td><td>10857</td><td>0.0191</td><td>&quot;Đồng bằng sông Hồng&quot;</td><td>72066</td><td>0.0173</td><td>120300</td><td>0.014</td><td>3100</td><td>0.0002</td><td>&quot;Nông nghiệp&quot;</td><td>23.3</td><td>33.0</td><td>15.0</td><td>1600.0</td><td>&quot;8&quot;</td><td>&quot;1&quot;</td><td>23.3</td><td>1600</td><td>&quot;8&quot;</td><td>&quot;12,1&quot;</td><td>2018</td></tr></tbody></table></div>"
      ],
      "text/plain": [
       "shape: (5, 26)\n",
       "┌─────┬─────────────┬─────────────┬─────────────┬───┬─────────────┬────────────┬────────────┬──────┐\n",
       "│ Mã  ┆ Các tỉnh    ┆ Mật độ dân  ┆ Dân số      ┆ … ┆ Lượng mưa   ┆ Tháng mưa  ┆ Tháng khô  ┆ Năm  │\n",
       "│ --- ┆ thành       ┆ số          ┆ trung bình  ┆   ┆ trung bình  ┆ theo vùng  ┆ theo vùng  ┆ ---  │\n",
       "│ i64 ┆ ---         ┆ ---         ┆ ---         ┆   ┆ theo vùng…  ┆ ---        ┆ ---        ┆ i64  │\n",
       "│     ┆ str         ┆ i64         ┆ f64         ┆   ┆ ---         ┆ str        ┆ str        ┆      │\n",
       "│     ┆             ┆             ┆             ┆   ┆ i64         ┆            ┆            ┆      │\n",
       "╞═════╪═════════════╪═════════════╪═════════════╪═══╪═════════════╪════════════╪════════════╪══════╡\n",
       "│ 1   ┆ Hà Nội      ┆ 2239        ┆ 7520.7      ┆ … ┆ 1600        ┆ 8          ┆ 12,1       ┆ 2018 │\n",
       "│ 26  ┆ Vĩnh Phúc   ┆ 884         ┆ 1092.4      ┆ … ┆ 1600        ┆ 8          ┆ 12,1       ┆ 2018 │\n",
       "│ 27  ┆ Bắc Ninh    ┆ 1516        ┆ 1247.5      ┆ … ┆ 1600        ┆ 8          ┆ 12,1       ┆ 2018 │\n",
       "│ 22  ┆ Quảng Ninh  ┆ 205         ┆ 1266.5      ┆ … ┆ 1600        ┆ 8          ┆ 12,1       ┆ 2018 │\n",
       "│ 30  ┆ Hải Dương   ┆ 1083        ┆ 1807.5      ┆ … ┆ 1600        ┆ 8          ┆ 12,1       ┆ 2018 │\n",
       "└─────┴─────────────┴─────────────┴─────────────┴───┴─────────────┴────────────┴────────────┴──────┘"
      ]
     },
     "execution_count": 69,
     "metadata": {},
     "output_type": "execute_result"
    }
   ],
   "source": [
    "df.head()"
   ]
  },
  {
   "cell_type": "code",
   "execution_count": 109,
   "metadata": {},
   "outputs": [
    {
     "data": {
      "text/html": [
       "<div><style>\n",
       ".dataframe > thead > tr,\n",
       ".dataframe > tbody > tr {\n",
       "  text-align: right;\n",
       "  white-space: pre-wrap;\n",
       "}\n",
       "</style>\n",
       "<small>shape: (5, 26)</small><table border=\"1\" class=\"dataframe\"><thead><tr><th>Mã</th><th>Các tỉnh thành</th><th>Mật độ dân số</th><th>Dân số trung bình</th><th>Tỷ lệ gia tăng dân số</th><th>Số trường hợp tử vong</th><th>Tỷ lệ tử vong (%)</th><th>Vùng</th><th>Sản lượng nuôi trồng thủy sản</th><th>Phần trăm sản lượng nuôi trồng thủy sản(%)</th><th>Sản lượng nông nghiệp</th><th>Phần trăm sản lượng nông nghiệp(%)</th><th>Sản lượng lâm nghiệp</th><th>Phần trăm sản lượng lâm nghiệp(%)</th><th>Sản lượng phát triển tốt theo vùng </th><th>Nhiệt độ trung bình</th><th>Nhiệt độ cao nhất</th><th>Nhiệt độ thấp nhất</th><th>Lượng mưa(mm)</th><th>Tháng mùa mưa</th><th>Tháng mùa khô</th><th>Nhiệt độ trung bình theo vùng</th><th>Lượng mưa trung bình theo vùng(mm)</th><th>Tháng mưa theo vùng</th><th>Tháng khô theo vùng</th><th>Năm</th></tr><tr><td>str</td><td>str</td><td>str</td><td>str</td><td>str</td><td>str</td><td>str</td><td>str</td><td>str</td><td>str</td><td>str</td><td>str</td><td>str</td><td>str</td><td>str</td><td>str</td><td>str</td><td>str</td><td>str</td><td>str</td><td>str</td><td>str</td><td>str</td><td>str</td><td>str</td><td>str</td></tr></thead><tbody><tr><td>&quot;1&quot;</td><td>&quot;Hà Nội&quot;</td><td>&quot;2239&quot;</td><td>&quot;7520.7&quot;</td><td>&quot;2.23&quot;</td><td>&quot;37014&quot;</td><td>&quot;0.065&quot;</td><td>&quot;Đồng bằng sông Hồng&quot;</td><td>&quot;102886&quot;</td><td>&quot;0.0247&quot;</td><td>&quot;196400&quot;</td><td>&quot;0.0228&quot;</td><td>&quot;31000&quot;</td><td>&quot;0.002&quot;</td><td>&quot;Nông nghiệp&quot;</td><td>&quot;23.5&quot;</td><td>&quot;38.9&quot;</td><td>&quot;10.0&quot;</td><td>&quot;1676.2&quot;</td><td>&quot;8&quot;</td><td>&quot;1&quot;</td><td>&quot;23.3&quot;</td><td>&quot;1600&quot;</td><td>&quot;8&quot;</td><td>&quot;12,1&quot;</td><td>&quot;2018&quot;</td></tr><tr><td>&quot;26&quot;</td><td>&quot;Vĩnh Phúc&quot;</td><td>&quot;884&quot;</td><td>&quot;1092.4&quot;</td><td>&quot;1.36&quot;</td><td>&quot;5525&quot;</td><td>&quot;0.0097&quot;</td><td>&quot;Đồng bằng sông Hồng&quot;</td><td>&quot;19005&quot;</td><td>&quot;0.0046&quot;</td><td>&quot;70900&quot;</td><td>&quot;0.0082&quot;</td><td>&quot;39500&quot;</td><td>&quot;0.0026&quot;</td><td>&quot;Nông nghiệp&quot;</td><td>&quot;24.25&quot;</td><td>&quot;38.5&quot;</td><td>&quot;2.0&quot;</td><td>&quot;1500.0&quot;</td><td>&quot;8&quot;</td><td>&quot;12&quot;</td><td>&quot;23.3&quot;</td><td>&quot;1600&quot;</td><td>&quot;8&quot;</td><td>&quot;12,1&quot;</td><td>&quot;2018&quot;</td></tr><tr><td>&quot;27&quot;</td><td>&quot;Bắc Ninh&quot;</td><td>&quot;1516&quot;</td><td>&quot;1247.5&quot;</td><td>&quot;3.05&quot;</td><td>&quot;6346&quot;</td><td>&quot;0.0111&quot;</td><td>&quot;Đồng bằng sông Hồng&quot;</td><td>&quot;35988&quot;</td><td>&quot;0.0086&quot;</td><td>&quot;68500&quot;</td><td>&quot;0.008&quot;</td><td>&quot;4200&quot;</td><td>&quot;0.0003&quot;</td><td>&quot;Nông nghiệp&quot;</td><td>&quot;23.7&quot;</td><td>&quot;38.2&quot;</td><td>&quot;7.0&quot;</td><td>&quot;1575.0&quot;</td><td>&quot;8&quot;</td><td>&quot;12&quot;</td><td>&quot;23.3&quot;</td><td>&quot;1600&quot;</td><td>&quot;8&quot;</td><td>&quot;12,1&quot;</td><td>&quot;2018&quot;</td></tr><tr><td>&quot;22&quot;</td><td>&quot;Quảng Ninh&quot;</td><td>&quot;205&quot;</td><td>&quot;1266.5&quot;</td><td>&quot;1.46&quot;</td><td>&quot;7145&quot;</td><td>&quot;0.0125&quot;</td><td>&quot;Đồng bằng sông Hồng&quot;</td><td>&quot;56963&quot;</td><td>&quot;0.0137&quot;</td><td>&quot;46300&quot;</td><td>&quot;0.0054&quot;</td><td>&quot;376800&quot;</td><td>&quot;0.0247&quot;</td><td>&quot;Nông nghiệp&quot;</td><td>&quot;22.2&quot;</td><td>&quot;36.0&quot;</td><td>&quot;7.0&quot;</td><td>&quot;1900.0&quot;</td><td>&quot;6,7,8&quot;</td><td>&quot;11, 12, 1, 2&quot;</td><td>&quot;23.3&quot;</td><td>&quot;1600&quot;</td><td>&quot;8&quot;</td><td>&quot;12,1&quot;</td><td>&quot;2018&quot;</td></tr><tr><td>&quot;30&quot;</td><td>&quot;Hải Dương&quot;</td><td>&quot;1083&quot;</td><td>&quot;1807.5&quot;</td><td>&quot;1.46&quot;</td><td>&quot;10857&quot;</td><td>&quot;0.0191&quot;</td><td>&quot;Đồng bằng sông Hồng&quot;</td><td>&quot;72066&quot;</td><td>&quot;0.0173&quot;</td><td>&quot;120300&quot;</td><td>&quot;0.014&quot;</td><td>&quot;3100&quot;</td><td>&quot;0.0002&quot;</td><td>&quot;Nông nghiệp&quot;</td><td>&quot;23.3&quot;</td><td>&quot;33.0&quot;</td><td>&quot;15.0&quot;</td><td>&quot;1600.0&quot;</td><td>&quot;8&quot;</td><td>&quot;1&quot;</td><td>&quot;23.3&quot;</td><td>&quot;1600&quot;</td><td>&quot;8&quot;</td><td>&quot;12,1&quot;</td><td>&quot;2018&quot;</td></tr></tbody></table></div>"
      ],
      "text/plain": [
       "shape: (5, 26)\n",
       "┌─────┬─────────────┬─────────────┬─────────────┬───┬─────────────┬────────────┬────────────┬──────┐\n",
       "│ Mã  ┆ Các tỉnh    ┆ Mật độ dân  ┆ Dân số      ┆ … ┆ Lượng mưa   ┆ Tháng mưa  ┆ Tháng khô  ┆ Năm  │\n",
       "│ --- ┆ thành       ┆ số          ┆ trung bình  ┆   ┆ trung bình  ┆ theo vùng  ┆ theo vùng  ┆ ---  │\n",
       "│ str ┆ ---         ┆ ---         ┆ ---         ┆   ┆ theo vùng…  ┆ ---        ┆ ---        ┆ str  │\n",
       "│     ┆ str         ┆ str         ┆ str         ┆   ┆ ---         ┆ str        ┆ str        ┆      │\n",
       "│     ┆             ┆             ┆             ┆   ┆ str         ┆            ┆            ┆      │\n",
       "╞═════╪═════════════╪═════════════╪═════════════╪═══╪═════════════╪════════════╪════════════╪══════╡\n",
       "│ 1   ┆ Hà Nội      ┆ 2239        ┆ 7520.7      ┆ … ┆ 1600        ┆ 8          ┆ 12,1       ┆ 2018 │\n",
       "│ 26  ┆ Vĩnh Phúc   ┆ 884         ┆ 1092.4      ┆ … ┆ 1600        ┆ 8          ┆ 12,1       ┆ 2018 │\n",
       "│ 27  ┆ Bắc Ninh    ┆ 1516        ┆ 1247.5      ┆ … ┆ 1600        ┆ 8          ┆ 12,1       ┆ 2018 │\n",
       "│ 22  ┆ Quảng Ninh  ┆ 205         ┆ 1266.5      ┆ … ┆ 1600        ┆ 8          ┆ 12,1       ┆ 2018 │\n",
       "│ 30  ┆ Hải Dương   ┆ 1083        ┆ 1807.5      ┆ … ┆ 1600        ┆ 8          ┆ 12,1       ┆ 2018 │\n",
       "└─────┴─────────────┴─────────────┴─────────────┴───┴─────────────┴────────────┴────────────┴──────┘"
      ]
     },
     "execution_count": 109,
     "metadata": {},
     "output_type": "execute_result"
    }
   ],
   "source": [
    "mins = df.select([pl.col(col).cast(pl.String) for col in df.columns])\n",
    "df = df.with_columns(mins)\n",
    "\n",
    "df.head()"
   ]
  },
  {
   "cell_type": "code",
   "execution_count": null,
   "metadata": {},
   "outputs": [],
   "source": [
    "neo4j_user = getenv(\"NEO4J_USER\")\n",
    "neo4j_database = getenv(\"NEO4J_DB\")"
   ]
  },
  {
   "cell_type": "code",
   "execution_count": 72,
   "metadata": {},
   "outputs": [
    {
     "name": "stdout",
     "output_type": "stream",
     "text": [
      "Authentication verified\n",
      "Connection verified\n"
     ]
    }
   ],
   "source": [
    "driver = GraphDatabase.driver(\"bolt://localhost:7687\", auth=(neo4j_user, \"123456789\"))\n",
    "\n",
    "if driver.verify_authentication():\n",
    "    print(\"Authentication verified\")\n",
    "\n",
    "driver.verify_connectivity()\n",
    "print(\"Connection verified\")"
   ]
  },
  {
   "cell_type": "code",
   "execution_count": null,
   "metadata": {},
   "outputs": [],
   "source": [
    "def create_graph(df, driver, db, limit):\n",
    "    with driver.session(database=db) as session:\n",
    "        for row in df.iter_rows(named=True):\n",
    "            #####\n",
    "            # Tỉnh thành\n",
    "            #####\n",
    "            session.run(\n",
    "                \"\"\"\n",
    "                MERGE (p:Province {name: $name, code: $code, population_density: $population_density, average_population: $average_population, growth_rate: $growth_rate, death_count: $death_count, death_rate: $death_rate, year: $year})\n",
    "                \"\"\",\n",
    "                name = row['Các tỉnh thành'],\n",
    "                code = row['Mã'],\n",
    "                population_density = row['Mật độ dân số'],\n",
    "                average_population = row['Dân số trung bình'],\n",
    "                growth_rate = row['Tỷ lệ gia tăng dân số'],\n",
    "                death_count = row['Số trường hợp tử vong'],\n",
    "                death_rate = row['Tỷ lệ tử vong (%)'],\n",
    "                year = row['Năm']\n",
    "            )\n",
    "            \n",
    "            regions = row['Vùng'].split(',')[:limit]\n",
    "            avg_temperature_regions = row['Nhiệt độ trung bình theo vùng'].split(',')[:limit]\n",
    "            avg_rainfall_regions = row['Lượng mưa trung bình theo vùng(mm)'].split(',')[:limit]\n",
    "            rainy_months_regions = row['Tháng mưa theo vùng'].split(',')[:limit]\n",
    "            dry_months_regions = row['Tháng khô theo vùng'].split(',')[:limit]       \n",
    "            for region in regions:\n",
    "                session.run(\n",
    "                    \"\"\"\n",
    "                    MERGE (r: region {name: $name, avg_temperature_region: $avg_temperature_region, avg_rainfall_region: $avg_rainfall_region, rainy_months_region: $rainy_months_region, dry_months_region: $dry_months_region})\n",
    "                    SET r: region\n",
    "                    WITH r\n",
    "                    MATCH (p: Province {code: $code})\n",
    "                    MERGE (p)-[:BELONGS_TO]->(r)\n",
    "                    \"\"\",\n",
    "                    name = region.strip(),\n",
    "                    avg_temperature_region = avg_temperature_regions[regions.index(region)].strip(),\n",
    "                    avg_rainfall_region = avg_rainfall_regions[regions.index(region)].strip(),\n",
    "                    rainy_months_region = rainy_months_regions[regions.index(region)].strip(),\n",
    "                    dry_months_region = dry_months_regions[regions.index(region)].strip(),\n",
    "                    code = row['Mã']          \n",
    "                )\n",
    "            \n",
    "            # # Province - HAS_CLIMATE -> Climate  \n",
    "            avg_temperatures = row['Nhiệt độ trung bình'].split(',')[:limit]\n",
    "            highest_temperatures = row['Nhiệt độ cao nhất'].split(',')[:limit]\n",
    "            lowest_temperatures = row['Nhiệt độ thấp nhất'].split(',')[:limit]  \n",
    "            rainfalls = row['Lượng mưa(mm)'].split(',')[:limit]\n",
    "            rainy_months = row['Tháng mùa mưa'].split(',')[:limit]\n",
    "            dry_months = row['Tháng mùa khô'].split(',')[:limit]\n",
    "            for avg_temperature in avg_temperatures:\n",
    "                session.run(\n",
    "                    \"\"\"\n",
    "                    MERGE (c:Climate {avg_temperature: $avg_temperature, highest_temperature: $highest_temperature, lowest_temperature: $lowest_temperature, rainfall: $rainfall, rainy_months: $rainy_months, dry_months: $dry_months})\n",
    "                    SET c: Climate\n",
    "                    WITH c\n",
    "                    MATCH (p:Province {name: $name})\n",
    "                    MERGE (p)-[:HAS_CLIMATE]->(c)\n",
    "                    \"\"\",\n",
    "                    avg_temperature = avg_temperature[avg_temperatures.index(avg_temperature)].strip(),\n",
    "                    highest_temperature = highest_temperatures[avg_temperatures.index(avg_temperature)].strip(),\n",
    "                    lowest_temperature = lowest_temperatures[avg_temperatures.index(avg_temperature)].strip(),\n",
    "                    rainfall = rainfalls[avg_temperatures.index(avg_temperature)].strip(),\n",
    "                    rainy_months = rainy_months[avg_temperatures.index(avg_temperature)].strip(),\n",
    "                    dry_months = dry_months[avg_temperatures.index(avg_temperature)].strip(),\n",
    "                    name = row['Các tỉnh thành']\n",
    "                )\n",
    "            \n",
    "            # # Province - HAS_PRODUCTION -> Production  \n",
    "            aquaculture_outputs = row['Sản lượng nuôi trồng thủy sản'].split(',')[:limit]\n",
    "            agriculture_output = row['Sản lượng nông nghiệp'].split(',')[:limit]\n",
    "            forestry_output = row['Sản lượng lâm nghiệp'].split(',')[:limit]\n",
    "            aquaculture_ratio = row['Phần trăm sản lượng nuôi trồng thủy sản(%)'].split(',')[:limit]\n",
    "            agriculture_ratio = row['Phần trăm sản lượng nông nghiệp(%)'].split(',')[:limit]\n",
    "            forestry_ratio = row['Phần trăm sản lượng lâm nghiệp(%)'].split(',')[:limit]\n",
    "            for aquaculture_output in aquaculture_outputs:\n",
    "                session.run(\n",
    "                    \"\"\"\n",
    "                    MERGE (sl: Production {aquaculture_output: $aquaculture_output, agriculture_output: $agriculture_output, forestry_output: $forestry_output, aquaculture_ratio: $aquaculture_ratio, agriculture_ratio: $agriculture_ratio, forestry_ratio: $forestry_ratio})\n",
    "                    SET sl: Production\n",
    "                    WITH sl\n",
    "                    MATCH (p:Province {name: $name})\n",
    "                    MERGE (p)-[:HAS_PRODUCTION]->(sl)\n",
    "                    \"\"\",\n",
    "                    aquaculture_output = aquaculture_output,\n",
    "                    agriculture_output = agriculture_output[aquaculture_outputs.index(aquaculture_output)],\n",
    "                    forestry_output = forestry_output[aquaculture_outputs.index(aquaculture_output)],\n",
    "                    aquaculture_ratio = aquaculture_ratio[aquaculture_outputs.index(aquaculture_output)],\n",
    "                    agriculture_ratio = agriculture_ratio[aquaculture_outputs.index(aquaculture_output)],\n",
    "                    forestry_ratio = forestry_ratio[aquaculture_outputs.index(aquaculture_output)],\n",
    "                    name = row['Các tỉnh thành']\n",
    "                )"
   ]
  },
  {
   "cell_type": "code",
   "execution_count": 171,
   "metadata": {},
   "outputs": [
    {
     "name": "stderr",
     "output_type": "stream",
     "text": [
      "C:\\Users\\Admin\\AppData\\Local\\Temp\\ipykernel_7864\\2493525028.py:2: DeprecationWarning: Using a driver after it has been closed is deprecated. Future versions of the driver will raise an error.\n",
      "  with driver.session(database=db) as session:\n"
     ]
    }
   ],
   "source": [
    "create_graph(df, driver, neo4j_database, 3)"
   ]
  },
  {
   "cell_type": "code",
   "execution_count": 172,
   "metadata": {},
   "outputs": [],
   "source": [
    "driver.close()"
   ]
  }
 ],
 "metadata": {
  "kernelspec": {
   "display_name": ".venv",
   "language": "python",
   "name": "python3"
  },
  "language_info": {
   "codemirror_mode": {
    "name": "ipython",
    "version": 3
   },
   "file_extension": ".py",
   "mimetype": "text/x-python",
   "name": "python",
   "nbconvert_exporter": "python",
   "pygments_lexer": "ipython3",
   "version": "3.12.4"
  }
 },
 "nbformat": 4,
 "nbformat_minor": 2
}
