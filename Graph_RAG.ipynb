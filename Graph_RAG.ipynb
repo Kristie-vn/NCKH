{
 "cells": [
  {
   "cell_type": "code",
   "execution_count": null,
   "id": "64a3f149-8f2a-4eed-aa89-75d8ba327cb3",
   "metadata": {},
   "outputs": [
    {
     "ename": "ImportError",
     "evalue": "cannot import name 'ChatGoogleGenerativeAI' from 'langchain.llms' (c:\\Users\\Admin\\VIP\\Máy tính\\NCKH\\test\\.venv\\Lib\\site-packages\\langchain\\llms\\__init__.py)",
     "output_type": "error",
     "traceback": [
      "\u001b[1;31m---------------------------------------------------------------------------\u001b[0m",
      "\u001b[1;31mImportError\u001b[0m                               Traceback (most recent call last)",
      "Cell \u001b[1;32mIn[26], line 5\u001b[0m\n\u001b[0;32m      3\u001b[0m \u001b[38;5;28;01mfrom\u001b[39;00m\u001b[38;5;250m \u001b[39m\u001b[38;5;21;01mlangchain_community\u001b[39;00m\u001b[38;5;21;01m.\u001b[39;00m\u001b[38;5;21;01mgraphs\u001b[39;00m\u001b[38;5;250m \u001b[39m\u001b[38;5;28;01mimport\u001b[39;00m Neo4jGraph\n\u001b[0;32m      4\u001b[0m \u001b[38;5;28;01mfrom\u001b[39;00m\u001b[38;5;250m \u001b[39m\u001b[38;5;21;01mlangchain\u001b[39;00m\u001b[38;5;21;01m.\u001b[39;00m\u001b[38;5;21;01mchains\u001b[39;00m\u001b[38;5;250m \u001b[39m\u001b[38;5;28;01mimport\u001b[39;00m GraphCypherQAChain\n\u001b[1;32m----> 5\u001b[0m \u001b[38;5;28;01mfrom\u001b[39;00m\u001b[38;5;250m \u001b[39m\u001b[38;5;21;01mlangchain\u001b[39;00m\u001b[38;5;21;01m.\u001b[39;00m\u001b[38;5;21;01mllms\u001b[39;00m\u001b[38;5;250m \u001b[39m\u001b[38;5;28;01mimport\u001b[39;00m ChatGoogleGenerativeAI \n",
      "\u001b[1;31mImportError\u001b[0m: cannot import name 'ChatGoogleGenerativeAI' from 'langchain.llms' (c:\\Users\\Admin\\VIP\\Máy tính\\NCKH\\test\\.venv\\Lib\\site-packages\\langchain\\llms\\__init__.py)"
     ]
    }
   ],
   "source": [
    "from os import getenv\n",
    "from dotenv import load_dotenv\n",
    "from langchain_community.graphs import Neo4jGraph\n",
    "from langchain.chains import GraphCypherQAChain\n",
    "from langchain_google_genai import ChatGoogleGenerativeAI"
   ]
  },
  {
   "cell_type": "markdown",
   "id": "97b4c9b6-94c9-4d7b-826d-41b3701af977",
   "metadata": {},
   "source": [
    "#### You will need [Neo4j APOC](https://neo4j.com/docs/apoc/current/installation/) for langchain_community.graph.Neo4jGraph to function.\n",
    "Follow the instructions in the link and then, in neo4j.conf, set \n",
    "`dbms.security.procedures.unrestricted=apoc.*`"
   ]
  },
  {
   "cell_type": "code",
   "execution_count": 3,
   "id": "1fc2d0c9-06a7-4695-9fd5-a38fb535d79a",
   "metadata": {},
   "outputs": [
    {
     "data": {
      "text/plain": [
       "True"
      ]
     },
     "execution_count": 3,
     "metadata": {},
     "output_type": "execute_result"
    }
   ],
   "source": [
    "load_dotenv()"
   ]
  },
  {
   "cell_type": "code",
   "execution_count": 6,
   "id": "9f3830e1-cf3c-49f7-bee3-e36640062c21",
   "metadata": {},
   "outputs": [],
   "source": [
    "neo4j_url= getenv(\"NEO4J_URL\")\n",
    "neo4j_user = getenv(\"NEO4J_USER\")\n",
    "neo4j_password = getenv(\"NEO4J_PW\")\n",
    "neo4j_database = getenv(\"NEO4J_DB\")"
   ]
  },
  {
   "cell_type": "code",
   "execution_count": 7,
   "id": "c9fdb285-2572-4f6a-b32f-86e707fe1c19",
   "metadata": {},
   "outputs": [],
   "source": [
    "graph = Neo4jGraph(neo4j_url, neo4j_user, neo4j_password, neo4j_database)"
   ]
  },
  {
   "cell_type": "code",
   "execution_count": 8,
   "id": "5d079ba8-89c2-4c36-9d47-d80d2176dfba",
   "metadata": {},
   "outputs": [
    {
     "name": "stdout",
     "output_type": "stream",
     "text": [
      "Node properties:\n",
      "Movie {certificate: STRING, rating: FLOAT, run_time: INTEGER, tagline: STRING, title: STRING, year: INTEGER}\n",
      "Person {name: STRING}\n",
      "Actor {name: STRING}\n",
      "Director {name: STRING}\n",
      "Writer {name: STRING}\n",
      "Genre {name: STRING}\n",
      "Relationship properties:\n",
      "\n",
      "The relationships:\n",
      "(:Movie)-[:BELONGS_TO]->(:Genre)\n",
      "(:Person)-[:ACTED_IN]->(:Movie)\n",
      "(:Person)-[:DIRECTED]->(:Movie)\n",
      "(:Person)-[:WROTE]->(:Movie)\n",
      "(:Actor)-[:ACTED_IN]->(:Movie)\n",
      "(:Actor)-[:WROTE]->(:Movie)\n",
      "(:Actor)-[:DIRECTED]->(:Movie)\n",
      "(:Director)-[:DIRECTED]->(:Movie)\n",
      "(:Director)-[:WROTE]->(:Movie)\n",
      "(:Director)-[:ACTED_IN]->(:Movie)\n",
      "(:Writer)-[:DIRECTED]->(:Movie)\n",
      "(:Writer)-[:WROTE]->(:Movie)\n",
      "(:Writer)-[:ACTED_IN]->(:Movie)\n"
     ]
    }
   ],
   "source": [
    "print(graph.schema)"
   ]
  },
  {
   "cell_type": "markdown",
   "id": "d585fc95-7ac9-4a00-a02e-7f644958247d",
   "metadata": {},
   "source": [
    "#### Gemini "
   ]
  },
  {
   "cell_type": "code",
   "execution_count": 9,
   "id": "e81d6344-a009-43c3-a410-e8f1a1493255",
   "metadata": {},
   "outputs": [],
   "source": [
    "gemini_api = getenv(\"GEMINI_API\")"
   ]
  },
  {
   "cell_type": "code",
   "execution_count": 32,
   "id": "ef58fa79-4111-4b88-89c3-7dedbceb2938",
   "metadata": {},
   "outputs": [],
   "source": [
    "llm = ChatGoogleGenerativeAI(model=\"gemini-1.5-pro\", google_api_key = gemini_api ,temperature = 0)\n",
    "\n",
    "chain = GraphCypherQAChain.from_llm(graph=graph, llm=llm, verbose=True,allow_dangerous_requests=True)"
   ]
  },
  {
   "cell_type": "markdown",
   "id": "ce10bb02-3bbd-4484-8394-1605708f2353",
   "metadata": {},
   "source": [
    "### Prompts"
   ]
  },
  {
   "cell_type": "markdown",
   "id": "c8af96b7-fe32-4623-ab97-740af5783b79",
   "metadata": {},
   "source": [
    "- #### Simple prompts."
   ]
  },
  {
   "cell_type": "code",
   "execution_count": 35,
   "id": "a5f9b984-1e45-4d50-936f-4c3a277df2f0",
   "metadata": {},
   "outputs": [
    {
     "name": "stdout",
     "output_type": "stream",
     "text": [
      "\n",
      "\n",
      "Which are the best movies released before 1960?\n",
      "\n",
      "\n",
      "\u001b[1m> Entering new GraphCypherQAChain chain...\u001b[0m\n",
      "Generated Cypher:\n",
      "\u001b[32;1m\u001b[1;3mcypher\n",
      "MATCH (m:Movie)\n",
      "WHERE m.year < 1960\n",
      "RETURN m\n",
      "ORDER BY m.rating DESC\n",
      "LIMIT 10\n",
      "\u001b[0m\n",
      "Full Context:\n",
      "\u001b[32;1m\u001b[1;3m[{'m': {'run_time': 96, 'year': 1957, 'certificate': 'Approved', 'rating': 9.0, 'tagline': 'Life Is In Their Hands -- Death Is On Their Minds!', 'title': '12 Angry Men'}}, {'m': {'run_time': 130, 'year': 1946, 'certificate': 'PG', 'rating': 8.6, 'tagline': 'Frank Capra\\'s...\"It\\'s a Wonderful Life\".', 'title': \"It's a Wonderful Life\"}}, {'m': {'run_time': 207, 'year': 1954, 'certificate': 'Not Rated', 'rating': 8.6, 'tagline': 'Will Take Its Place With the Seven Greatest Films of All Time!', 'title': 'Seven Samurai'}}, {'m': {'run_time': 112, 'year': 1954, 'certificate': 'PG', 'rating': 8.5, 'tagline': 'The Essential Hitchcock', 'title': 'Rear Window'}}, {'m': {'run_time': 87, 'year': 1936, 'certificate': 'G', 'rating': 8.5, 'tagline': 'He stands alone as the greatest entertainer of modern times! No one on earth can make you laugh as heartily or touch your heart as deeply...the whole world laughs, cries and thrills to his priceless genius!', 'title': 'Modern Times'}}, {'m': {'run_time': 87, 'year': 1931, 'certificate': 'G', 'rating': 8.5, 'tagline': 'HE RETURNS -And the world rocks again with laughter. (Print Ad-Daily Examiner, ((Grafton, NSW)) 6 July 1931)', 'title': 'City Lights'}}, {'m': {'run_time': 102, 'year': 1942, 'certificate': 'PG', 'rating': 8.5, 'tagline': 'Where Love Cuts as Deep as a Dagger!', 'title': 'Casablanca'}}, {'m': {'run_time': 125, 'year': 1940, 'certificate': 'G', 'rating': 8.4, 'tagline': 'The Comedy Masterpiece!', 'title': 'The Great Dictator'}}, {'m': {'run_time': 88, 'year': 1957, 'certificate': 'Approved', 'rating': 8.4, 'tagline': 'Never has the screen thrust so deeply into the guts of war!', 'title': 'Paths of Glory'}}, {'m': {'run_time': 110, 'year': 1950, 'certificate': 'Passed', 'rating': 8.4, 'tagline': 'A Hollywood Story', 'title': 'Sunset Blvd.'}}]\u001b[0m\n",
      "\n",
      "\u001b[1m> Finished chain.\u001b[0m\n",
      "12 Angry Men (1957), It's a Wonderful Life (1946), Seven Samurai (1954), Rear Window (1954), Modern Times (1936), City Lights (1931), Casablanca (1942), The Great Dictator (1940), Paths of Glory (1957), and Sunset Blvd. (1950) are some of the best movies released before 1960.\n"
     ]
    }
   ],
   "source": [
    "questions = [\n",
    "    \"Which are the best movies released before 1960?\",\n",
    "    # \"Which are the 3 best crime dramas?\",\n",
    "    # \"Who is the director with highest average rating for their movies?\",\n",
    "    # \"In what movies have Robert DeNiro and Al Pacino together?\",\n",
    "    # \"Which director has Brad Pitt worked with the most?\",\n",
    "    # \"Best 5 thrillers made before 2000.\"\n",
    "]\n",
    "\n",
    "for question in questions:\n",
    "    print(\"\\n\\n\" + question)\n",
    "    print(chain.invoke(question)[\"result\"])"
   ]
  },
  {
   "cell_type": "markdown",
   "id": "7a8529ee-9d1f-45ee-aa41-af09e6c1144b",
   "metadata": {},
   "source": [
    "- #### Some prompts need clarification. In this case, writers, directors  and actors who have worked together need to be specified as different people."
   ]
  },
  {
   "cell_type": "code",
   "execution_count": 37,
   "id": "fcf2065a-5d0b-4cd6-ad26-906f170a40aa",
   "metadata": {},
   "outputs": [
    {
     "name": "stdout",
     "output_type": "stream",
     "text": [
      "\n",
      "\n",
      "Which actor and director have worked together the most?\n",
      "\n",
      "\n",
      "\u001b[1m> Entering new GraphCypherQAChain chain...\u001b[0m\n"
     ]
    },
    {
     "name": "stderr",
     "output_type": "stream",
     "text": [
      "Retrying langchain_google_genai.chat_models._chat_with_retry.<locals>._chat_with_retry in 2.0 seconds as it raised ResourceExhausted: 429 Resource has been exhausted (e.g. check quota)..\n"
     ]
    },
    {
     "name": "stdout",
     "output_type": "stream",
     "text": [
      "Generated Cypher:\n",
      "\u001b[32;1m\u001b[1;3mcypher\n",
      "MATCH (a:Actor)-[:ACTED_IN]->(m:Movie)<-[:DIRECTED]-(d:Director)\n",
      "RETURN a.name, d.name, COUNT(m) AS collaborations\n",
      "ORDER BY collaborations DESC\n",
      "LIMIT 1\n",
      "\u001b[0m\n",
      "Full Context:\n",
      "\u001b[32;1m\u001b[1;3m[{'a.name': 'Charles Chaplin', 'd.name': 'Charles Chaplin', 'collaborations': 5}]\u001b[0m\n"
     ]
    },
    {
     "name": "stderr",
     "output_type": "stream",
     "text": [
      "Retrying langchain_google_genai.chat_models._chat_with_retry.<locals>._chat_with_retry in 2.0 seconds as it raised ResourceExhausted: 429 Resource has been exhausted (e.g. check quota)..\n"
     ]
    },
    {
     "name": "stdout",
     "output_type": "stream",
     "text": [
      "\n",
      "\u001b[1m> Finished chain.\u001b[0m\n",
      "Charles Chaplin has collaborated with himself (as director) 5 times.\n"
     ]
    }
   ],
   "source": [
    "questions = [\n",
    "    \"Which actor and director have worked together the most?\",\n",
    "    # \"Which writer and director have worked together the most?\",\n",
    "\n",
    "    # \"Which actor and director have worked together the most? Remember they cannot be the same person.\",\n",
    "    # \"Which writer and director have worked together the most? Remember they cannot be the same person.\"\n",
    "]\n",
    "\n",
    "for question in questions:\n",
    "    print(\"\\n\\n\" + question)\n",
    "    print(chain.invoke(question)[\"result\"])"
   ]
  },
  {
   "cell_type": "markdown",
   "id": "4ac6ffa7-ee91-455b-94d1-cd27f04f0036",
   "metadata": {},
   "source": [
    "- #### Sometimes the LLM generates proper Cypher queries, which return the proper results, but the LLM is unable to infer the required information from these results.\n",
    "- #### Adding another line that motivates it to understand helps in these cases."
   ]
  },
  {
   "cell_type": "code",
   "execution_count": 14,
   "id": "a24e135f-22e0-421b-8534-cbfd3f20a142",
   "metadata": {},
   "outputs": [
    {
     "name": "stdout",
     "output_type": "stream",
     "text": [
      "\n",
      "Who is the actor who has starred in most of the best rated movies.\n",
      "\n",
      "\n",
      "\u001b[1m> Entering new GraphCypherQAChain chain...\u001b[0m\n",
      "Generated Cypher:\n",
      "\u001b[32;1m\u001b[1;3mcypher\n",
      "MATCH (a:Actor)-[:ACTED_IN]->(m:Movie)\n",
      "WHERE m.rating > 4.0\n",
      "RETURN a.name, COUNT(m) AS num_movies\n",
      "ORDER BY num_movies DESC\n",
      "LIMIT 1;\n",
      "\u001b[0m\n",
      "Full Context:\n",
      "\u001b[32;1m\u001b[1;3m[{'a.name': 'Robert De Niro', 'num_movies': 9}]\u001b[0m\n",
      "\n",
      "\u001b[1m> Finished chain.\u001b[0m\n",
      "I don't know the answer to this question.\n",
      "\n",
      "Who is the actor who has starred in most of the best rated movies.You know the answer. Just parse the result from the Cypher query, understand it, then tell me the actor.\n",
      "\n",
      "\n",
      "\u001b[1m> Entering new GraphCypherQAChain chain...\u001b[0m\n",
      "Generated Cypher:\n",
      "\u001b[32;1m\u001b[1;3mcypher\n",
      "MATCH (a:Actor)-[:ACTED_IN]->(m:Movie)\n",
      "WHERE m.rating > 4.0\n",
      "RETURN a.name AS actor_name, COUNT(m) AS num_movies\n",
      "ORDER BY num_movies DESC\n",
      "LIMIT 1;\n",
      "\u001b[0m\n",
      "Full Context:\n",
      "\u001b[32;1m\u001b[1;3m[{'actor_name': 'Robert De Niro', 'num_movies': 9}]\u001b[0m\n",
      "\n",
      "\u001b[1m> Finished chain.\u001b[0m\n",
      "Robert De Niro\n"
     ]
    }
   ],
   "source": [
    "questions = [\n",
    "    \"Who is the actor who has starred in most of the best rated movies.\",\n",
    "    \n",
    "    \"Who is the actor who has starred in most of the best rated movies.\" \\\n",
    "    \"You know the answer. Just parse the result from the Cypher query, understand it, then tell me the actor.\"\n",
    "]\n",
    "\n",
    "for question in questions:\n",
    "    print(\"\\n\" + question)\n",
    "    print(chain.invoke(question)[\"result\"])"
   ]
  },
  {
   "cell_type": "markdown",
   "id": "4b68b238-4746-4898-994e-a5731b28e4f1",
   "metadata": {},
   "source": [
    "### Enter your own prompts -"
   ]
  },
  {
   "cell_type": "code",
   "execution_count": 21,
   "id": "1b359b65-cc20-41a1-95d0-177a4e9f9db4",
   "metadata": {},
   "outputs": [
    {
     "name": "stdout",
     "output_type": "stream",
     "text": [
      "\n",
      "\n",
      "Enter your question (Type 'EXIT' to exit) :  Top thrillers made before 2000?\n"
     ]
    },
    {
     "name": "stdout",
     "output_type": "stream",
     "text": [
      "\n",
      "Top thrillers made before 2000?\n",
      "\n",
      "\n",
      "\u001b[1m> Entering new GraphCypherQAChain chain...\u001b[0m\n",
      "Generated Cypher:\n",
      "\u001b[32;1m\u001b[1;3mcypher\n",
      "MATCH (m:Movie)-[:BELONGS_TO]->(g:Genre)\n",
      "WHERE g.name = 'Thriller' AND m.year < 2000\n",
      "RETURN m.title AS MovieTitle, m.year AS YearReleased, g.name AS Genre\n",
      "ORDER BY m.rating DESC\n",
      "LIMIT 10;\n",
      "\u001b[0m\n",
      "Full Context:\n",
      "\u001b[32;1m\u001b[1;3m[{'MovieTitle': 'The Silence of the Lambs', 'YearReleased': 1991, 'Genre': 'Thriller'}, {'MovieTitle': 'Psycho', 'YearReleased': 1960, 'Genre': 'Thriller'}, {'MovieTitle': 'Rear Window', 'YearReleased': 1954, 'Genre': 'Thriller'}, {'MovieTitle': 'Come and See', 'YearReleased': 1985, 'Genre': 'Thriller'}, {'MovieTitle': 'Vertigo', 'YearReleased': 1958, 'Genre': 'Thriller'}, {'MovieTitle': 'Reservoir Dogs', 'YearReleased': 1992, 'Genre': 'Thriller'}, {'MovieTitle': 'M', 'YearReleased': 1931, 'Genre': 'Thriller'}, {'MovieTitle': 'Dial M for Murder', 'YearReleased': 1954, 'Genre': 'Thriller'}, {'MovieTitle': 'The Wages of Fear', 'YearReleased': 1953, 'Genre': 'Thriller'}, {'MovieTitle': 'The Sixth Sense', 'YearReleased': 1999, 'Genre': 'Thriller'}]\u001b[0m\n",
      "\n",
      "\u001b[1m> Finished chain.\u001b[0m\n",
      "1. The Silence of the Lambs (1991)\n",
      "2. Psycho (1960)\n",
      "3. Rear Window (1954)\n",
      "4. Come and See (1985)\n",
      "5. Vertigo (1958)\n",
      "6. Reservoir Dogs (1992)\n",
      "7. M (1931)\n",
      "8. Dial M for Murder (1954)\n",
      "9. The Wages of Fear (1953)\n",
      "10. The Sixth Sense (1999)\n"
     ]
    },
    {
     "name": "stdout",
     "output_type": "stream",
     "text": [
      "\n",
      "\n",
      "Enter your question (Type 'EXIT' to exit) :  Top 5 thrillers less than 120 minutes long?\n"
     ]
    },
    {
     "name": "stdout",
     "output_type": "stream",
     "text": [
      "\n",
      "Top 5 thrillers less than 120 minutes long?\n",
      "\n",
      "\n",
      "\u001b[1m> Entering new GraphCypherQAChain chain...\u001b[0m\n",
      "Generated Cypher:\n",
      "\u001b[32;1m\u001b[1;3mcypher\n",
      "MATCH (m:Movie)-[:BELONGS_TO]->(g:Genre)\n",
      "WHERE g.name = 'Thriller' AND m.run_time < 120\n",
      "RETURN m.title, m.run_time\n",
      "ORDER BY m.run_time\n",
      "LIMIT 5;\n",
      "\u001b[0m\n",
      "Full Context:\n",
      "\u001b[32;1m\u001b[1;3m[{'m.title': 'Persona', 'm.run_time': 83}, {'m.title': 'The Third Man', 'm.run_time': 93}, {'m.title': 'Fargo', 'm.run_time': 98}, {'m.title': 'M', 'm.run_time': 99}, {'m.title': 'Reservoir Dogs', 'm.run_time': 99}]\u001b[0m\n",
      "\n",
      "\u001b[1m> Finished chain.\u001b[0m\n",
      "1. Persona (83 minutes)\n",
      "2. The Third Man (93 minutes)\n",
      "3. Fargo (98 minutes)\n",
      "4. M (99 minutes)\n",
      "5. Reservoir Dogs (99 minutes)\n"
     ]
    },
    {
     "name": "stdout",
     "output_type": "stream",
     "text": [
      "\n",
      "\n",
      "Enter your question (Type 'EXIT' to exit) :  Best Akira Kurosawa movie?\n"
     ]
    },
    {
     "name": "stdout",
     "output_type": "stream",
     "text": [
      "\n",
      "Best Akira Kurosawa movie?\n",
      "\n",
      "\n",
      "\u001b[1m> Entering new GraphCypherQAChain chain...\u001b[0m\n",
      "Generated Cypher:\n",
      "\u001b[32;1m\u001b[1;3mcypher\n",
      "MATCH (m:Movie)<-[:DIRECTED]-(d:Director {name: \"Akira Kurosawa\"})\n",
      "RETURN m.title AS BestMovie\n",
      "ORDER BY m.rating DESC\n",
      "LIMIT 1;\n",
      "\u001b[0m\n",
      "Full Context:\n",
      "\u001b[32;1m\u001b[1;3m[{'BestMovie': 'Seven Samurai'}]\u001b[0m\n",
      "\n",
      "\u001b[1m> Finished chain.\u001b[0m\n",
      "Seven Samurai\n"
     ]
    },
    {
     "name": "stdout",
     "output_type": "stream",
     "text": [
      "\n",
      "\n",
      "Enter your question (Type 'EXIT' to exit) :  Who acted in Seven Samurai?\n"
     ]
    },
    {
     "name": "stdout",
     "output_type": "stream",
     "text": [
      "\n",
      "Who acted in Seven Samurai?\n",
      "\n",
      "\n",
      "\u001b[1m> Entering new GraphCypherQAChain chain...\u001b[0m\n",
      "Generated Cypher:\n",
      "\u001b[32;1m\u001b[1;3mMATCH (m:Movie {title: \"Seven Samurai\"})-[:ACTED_IN]-(a:Actor) RETURN a.name\u001b[0m\n",
      "Full Context:\n",
      "\u001b[32;1m\u001b[1;3m[{'a.name': 'Keiko Tsushima'}, {'a.name': 'Takashi Shimura'}, {'a.name': 'Toshirô Mifune'}]\u001b[0m\n",
      "\n",
      "\u001b[1m> Finished chain.\u001b[0m\n",
      "Keiko Tsushima, Takashi Shimura, Toshirô Mifune acted in Seven Samurai.\n"
     ]
    },
    {
     "name": "stdout",
     "output_type": "stream",
     "text": [
      "\n",
      "\n",
      "Enter your question (Type 'EXIT' to exit) :  EXIT\n"
     ]
    },
    {
     "name": "stdout",
     "output_type": "stream",
     "text": [
      "Exiting\n"
     ]
    }
   ],
   "source": [
    "while True:\n",
    "    question = input(\"\\n\\nEnter your question (Type 'EXIT' to exit) : \")\n",
    "    \n",
    "    if question == \"EXIT\":\n",
    "        print(\"Exiting\")\n",
    "        break\n",
    "    else:\n",
    "        print(\"\\n\" + question)\n",
    "        print(chain.invoke(question)[\"result\"])"
   ]
  }
 ],
 "metadata": {
  "kernelspec": {
   "display_name": ".venv",
   "language": "python",
   "name": "python3"
  },
  "language_info": {
   "codemirror_mode": {
    "name": "ipython",
    "version": 3
   },
   "file_extension": ".py",
   "mimetype": "text/x-python",
   "name": "python",
   "nbconvert_exporter": "python",
   "pygments_lexer": "ipython3",
   "version": "3.12.4"
  }
 },
 "nbformat": 4,
 "nbformat_minor": 5
}
